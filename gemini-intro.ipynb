{
 "cells": [
  {
   "cell_type": "markdown",
   "metadata": {},
   "source": [
    "# Gemini intro"
   ]
  },
  {
   "cell_type": "markdown",
   "metadata": {},
   "source": [
    "## Setup"
   ]
  },
  {
   "cell_type": "code",
   "execution_count": 3,
   "metadata": {},
   "outputs": [],
   "source": [
    "import os\n",
    "import dotenv\n",
    "from IPython.display import display\n",
    "from IPython.display import Markdown\n",
    "import pathlib\n",
    "import textwrap\n",
    "\n",
    "dotenv.load_dotenv()\n",
    "GEMINI_API_KEY = os.getenv(\"GEMINI_API_KEY\")\n",
    "if not GEMINI_API_KEY:\n",
    "    raise ValueError(\"GEMINI_API_KEY is not set\")\n",
    "\n",
    "\n",
    "# display markdown helper\n",
    "def to_markdown(text):\n",
    "  text = text.replace('•', '  *')\n",
    "  return Markdown(textwrap.indent(text, '> ', predicate=lambda _: True))"
   ]
  },
  {
   "cell_type": "markdown",
   "metadata": {},
   "source": [
    "The below code is what we use for gemini setup and connecting it to the api key"
   ]
  },
  {
   "cell_type": "code",
   "execution_count": 6,
   "metadata": {},
   "outputs": [
    {
     "name": "stderr",
     "output_type": "stream",
     "text": [
      "c:\\Users\\Waadl\\Documents\\aadildev\\ai\\gemini\\.venv\\Lib\\site-packages\\tqdm\\auto.py:21: TqdmWarning: IProgress not found. Please update jupyter and ipywidgets. See https://ipywidgets.readthedocs.io/en/stable/user_install.html\n",
      "  from .autonotebook import tqdm as notebook_tqdm\n"
     ]
    }
   ],
   "source": [
    "import google.generativeai as genai\n",
    "\n",
    "genai.configure(api_key=GEMINI_API_KEY)"
   ]
  },
  {
   "cell_type": "markdown",
   "metadata": {},
   "source": [
    "## Completions"
   ]
  },
  {
   "cell_type": "markdown",
   "metadata": {},
   "source": [
    "We use the gemini 1.5 flash model for text-to-text generation, as it is cheap and quick."
   ]
  },
  {
   "cell_type": "code",
   "execution_count": 6,
   "metadata": {},
   "outputs": [
    {
     "data": {
      "text/markdown": [
       "> As a large language model, I don't have personal opinions or beliefs. I can't tell you the \"meaning of life\" because it's a question that has been pondered by philosophers and individuals for centuries without a definitive answer. \n",
       "> \n",
       "> Here's why:\n",
       "> \n",
       "> * **Subjective Experience:** The meaning of life is highly personal and depends on your individual values, beliefs, and experiences. What gives your life meaning might be different from what gives someone else's life meaning.\n",
       "> * **No Universal Truth:** There isn't a single, universal answer to the question of life's meaning. Different cultures, religions, and philosophies offer various perspectives.\n",
       "> * **Constant Evolution:**  Your understanding of life's meaning can change over time as you grow, learn, and encounter new experiences.\n",
       "> \n",
       "> Instead of searching for a definitive answer, consider these possibilities:\n",
       "> \n",
       "> * **Finding Purpose:**  Identifying what you're passionate about and contributing to something larger than yourself can bring a sense of purpose and meaning.\n",
       "> * **Building Relationships:**  Strong connections with loved ones can create a sense of belonging, love, and joy.\n",
       "> * **Self-Discovery:**  Exploring your interests, talents, and values helps you understand yourself and what brings you fulfillment.\n",
       "> * **Making a Difference:**  Using your abilities to help others and make a positive impact can give your life significance.\n",
       "> \n",
       "> The meaning of life is not something to be found, but rather something to be created. It's a journey of exploration, growth, and finding what brings you joy, purpose, and fulfillment. \n"
      ],
      "text/plain": [
       "<IPython.core.display.Markdown object>"
      ]
     },
     "execution_count": 6,
     "metadata": {},
     "output_type": "execute_result"
    }
   ],
   "source": [
    "text_model = genai.GenerativeModel('gemini-1.5-flash')\n",
    "response = text_model.generate_content(\"What is the meaning of life?\")\n",
    "to_markdown(response.text)"
   ]
  },
  {
   "cell_type": "code",
   "execution_count": 4,
   "metadata": {},
   "outputs": [],
   "source": [
    "class GeminiCompletionModel:\n",
    "    def __init__(self, model_name='gemini-1.5-flash'):\n",
    "        self.model = genai.GenerativeModel(model_name)\n",
    "\n",
    "    def generate(self, prompt):\n",
    "        response = self.model.generate_content(prompt)\n",
    "        return response.text"
   ]
  },
  {
   "cell_type": "code",
   "execution_count": null,
   "metadata": {},
   "outputs": [],
   "source": []
  },
  {
   "cell_type": "markdown",
   "metadata": {},
   "source": [
    "## Chat"
   ]
  },
  {
   "cell_type": "code",
   "execution_count": 8,
   "metadata": {},
   "outputs": [
    {
     "data": {
      "text/markdown": [
       "> ## Uncommon Bulking Advice\n",
       "> \n",
       "> * **Prioritize protein intake:** Aim for 1.6-2.2 grams of protein per kilogram of body weight daily. This helps build and repair muscle tissue.\n",
       "> * **Fuel with complex carbs:** Choose whole grains, fruits, and vegetables that provide sustained energy for intense workouts.\n",
       "> * **Hydrate adequately:** Drink plenty of water throughout the day, especially before, during, and after workouts.\n",
       "> * **Get sufficient sleep:** Aim for 7-9 hours of quality sleep each night to support muscle recovery and growth.\n",
       "> * **Incorporate resistance training:** Focus on compound exercises like squats, bench press, and deadlifts to engage multiple muscle groups simultaneously.\n",
       "> * **Consider supplements:** Creatine and BCAAs (branched-chain amino acids) can aid in muscle growth and recovery. consult a medical professional before using supplements.\n",
       "> \n",
       "> ## Model Diet Plan for Bulking (170 lbs at 5'10\")\n",
       "> \n",
       "> **Breakfast**\n",
       "> * Oatmeal with peanut butter and berries (300 calories)\n",
       "> * Scrambled eggs with whole-wheat toast (350 calories)\n",
       "> * Smoothie made with Greek yogurt, fruit, and spinach (400 calories)\n",
       "> \n",
       "> **Mid-Morning Snack**\n",
       "> * Protein shake (250 calories)\n",
       "> * Cottage cheese with fruit (200 calories)\n",
       "> * Greek yogurt with granola (300 calories)\n",
       "> \n",
       "> **Lunch**\n",
       "> * Chicken salad sandwich on whole-wheat bread (450 calories)\n",
       "> * Salmon with grilled vegetables (500 calories)\n",
       "> * Lentil soup with whole-wheat bread (400 calories)\n",
       "> \n",
       "> **Afternoon Snack**\n",
       "> * Apple with peanut butter (250 calories)\n",
       "> * Trail mix with nuts, seeds, and dried fruit (300 calories)\n",
       "> * Hard-boiled eggs (150 calories)\n",
       "> \n",
       "> **Dinner**\n",
       "> * Grilled steak with roasted potatoes and broccoli (600 calories)\n",
       "> * Chicken stir-fry with brown rice (550 calories)\n",
       "> * Salmon with quinoa and roasted vegetables (500 calories)\n",
       "> \n",
       "> **Evening Snack (optional)**\n",
       "> * Casein protein shake (250 calories)\n",
       "> * Cottage cheese with fruit (200 calories)\n",
       "> * Greek yogurt with peanut butter (300 calories)\n",
       "> \n",
       "> **Total Calories:** Approximately 3,000-3,500 calories per day\n",
       "> \n",
       "> **Note:** Adjust calorie intake and macronutrient distribution based on individual needs and progress. Consult a registered dietitian or healthcare professional for personalized advice."
      ],
      "text/plain": [
       "<IPython.core.display.Markdown object>"
      ]
     },
     "execution_count": 8,
     "metadata": {},
     "output_type": "execute_result"
    }
   ],
   "source": [
    "model = genai.GenerativeModel('gemini-pro')\n",
    "chat_session = model.start_chat()\n",
    "response = chat_session.send_message(\"\"\"How can I clean bulk effectively to gain muscle?\n",
    "                                     I am 5 feet 10 inches tall and weight 170 lbs.\n",
    "                                     First give me general but uncommon advice, and then\n",
    "                                     come up with a model diet plan.\n",
    "                                     \"\"\")\n",
    "to_markdown(response.text)"
   ]
  },
  {
   "cell_type": "code",
   "execution_count": 9,
   "metadata": {},
   "outputs": [
    {
     "data": {
      "text/plain": [
       "[parts {\n",
       "   text: \"How can I clean bulk effectively to gain muscle?\\n                                     I am 5 feet 10 inches tall and weight 170 lbs.\\n                                     First give me general but uncommon advice, and then\\n                                     come up with a model diet plan.\\n                                     \"\n",
       " }\n",
       " role: \"user\",\n",
       " parts {\n",
       "   text: \"## Uncommon Bulking Advice\\n\\n* **Prioritize protein intake:** Aim for 1.6-2.2 grams of protein per kilogram of body weight daily. This helps build and repair muscle tissue.\\n* **Fuel with complex carbs:** Choose whole grains, fruits, and vegetables that provide sustained energy for intense workouts.\\n* **Hydrate adequately:** Drink plenty of water throughout the day, especially before, during, and after workouts.\\n* **Get sufficient sleep:** Aim for 7-9 hours of quality sleep each night to support muscle recovery and growth.\\n* **Incorporate resistance training:** Focus on compound exercises like squats, bench press, and deadlifts to engage multiple muscle groups simultaneously.\\n* **Consider supplements:** Creatine and BCAAs (branched-chain amino acids) can aid in muscle growth and recovery. consult a medical professional before using supplements.\\n\\n## Model Diet Plan for Bulking (170 lbs at 5\\'10\\\")\\n\\n**Breakfast**\\n* Oatmeal with peanut butter and berries (300 calories)\\n* Scrambled eggs with whole-wheat toast (350 calories)\\n* Smoothie made with Greek yogurt, fruit, and spinach (400 calories)\\n\\n**Mid-Morning Snack**\\n* Protein shake (250 calories)\\n* Cottage cheese with fruit (200 calories)\\n* Greek yogurt with granola (300 calories)\\n\\n**Lunch**\\n* Chicken salad sandwich on whole-wheat bread (450 calories)\\n* Salmon with grilled vegetables (500 calories)\\n* Lentil soup with whole-wheat bread (400 calories)\\n\\n**Afternoon Snack**\\n* Apple with peanut butter (250 calories)\\n* Trail mix with nuts, seeds, and dried fruit (300 calories)\\n* Hard-boiled eggs (150 calories)\\n\\n**Dinner**\\n* Grilled steak with roasted potatoes and broccoli (600 calories)\\n* Chicken stir-fry with brown rice (550 calories)\\n* Salmon with quinoa and roasted vegetables (500 calories)\\n\\n**Evening Snack (optional)**\\n* Casein protein shake (250 calories)\\n* Cottage cheese with fruit (200 calories)\\n* Greek yogurt with peanut butter (300 calories)\\n\\n**Total Calories:** Approximately 3,000-3,500 calories per day\\n\\n**Note:** Adjust calorie intake and macronutrient distribution based on individual needs and progress. Consult a registered dietitian or healthcare professional for personalized advice.\"\n",
       " }\n",
       " role: \"model\"]"
      ]
     },
     "execution_count": 9,
     "metadata": {},
     "output_type": "execute_result"
    }
   ],
   "source": [
    "chat_session.history"
   ]
  },
  {
   "cell_type": "code",
   "execution_count": 11,
   "metadata": {},
   "outputs": [
    {
     "data": {
      "text/markdown": [
       "> The diameter of the Sun is approximately **865,000 miles (1,392,000 kilometers)**. \n"
      ],
      "text/plain": [
       "<IPython.core.display.Markdown object>"
      ]
     },
     "execution_count": 11,
     "metadata": {},
     "output_type": "execute_result"
    }
   ],
   "source": [
    "text_model = genai.GenerativeModel('gemini-1.5-flash')\n",
    "generation_config = genai.types.GenerationConfig(\n",
    "    stop_sequences=[],\n",
    "    max_output_tokens=2000,\n",
    "    top_k=1,\n",
    "    top_p=0,\n",
    "    temperature=0.05,\n",
    ")\n",
    "\n",
    "response = text_model.generate_content(\"What is the diameter of the sun?\", \n",
    "                            generation_config=generation_config)\n",
    "to_markdown(response.text)"
   ]
  },
  {
   "cell_type": "code",
   "execution_count": null,
   "metadata": {},
   "outputs": [],
   "source": []
  },
  {
   "cell_type": "markdown",
   "metadata": {},
   "source": [
    "## Gemini Vision"
   ]
  },
  {
   "cell_type": "code",
   "execution_count": 18,
   "metadata": {},
   "outputs": [],
   "source": [
    "from PIL import Image\n",
    "\n",
    "image = Image.open('meme.jpg')"
   ]
  },
  {
   "cell_type": "code",
   "execution_count": 25,
   "metadata": {},
   "outputs": [
    {
     "data": {
      "text/markdown": [
       "> This meme represents the cycle of procrastination and self-sabotage that many people experience. It shows the internal conflict between wanting to improve oneself and the desire to avoid doing anything that might require effort or change. \n",
       "> \n",
       "> Here's how it relates to the pattern of self-improvement:\n",
       "> \n",
       "> * **\"I'm tired, I don't want to do anything anymore\":**  This reflects the initial feeling of exhaustion and lack of motivation that often precedes procrastination. \n",
       "> * **\"I need to do something, I can't waste my life\":**  This represents the guilt and awareness of the need to take action, but the fear of failure or discomfort pushes us back into inaction.\n",
       "> \n",
       "> **Breaking the cycle:**\n",
       "> \n",
       "> The meme highlights the importance of understanding these feelings and taking proactive steps to break the cycle. Some strategies include:\n",
       "> \n",
       "> * **Small Steps:**  Instead of focusing on massive changes, break down goals into manageable, bite-sized tasks.\n",
       "> * **Self-Compassion:**  Acknowledge that procrastination is a common human experience. Be kind to yourself and avoid self-criticism.\n",
       "> * **Motivation Techniques:**  Find ways to motivate yourself, like setting rewards, using visual aids, or finding an accountability partner.\n",
       "> * **Tackle One Thing at a Time:**  Avoid overwhelming yourself with multiple tasks. Focus on completing one task before moving on to the next.\n",
       "> * **Seek Professional Help:**  If you struggle with procrastination, consider seeking help from a therapist or counselor who can help you identify underlying issues and develop coping mechanisms.\n",
       "> \n",
       "> Remember, breaking the cycle takes time and effort. Be patient with yourself and celebrate your progress, no matter how small. \n"
      ],
      "text/plain": [
       "<IPython.core.display.Markdown object>"
      ]
     },
     "execution_count": 25,
     "metadata": {},
     "output_type": "execute_result"
    }
   ],
   "source": [
    "image_model = genai.GenerativeModel('gemini-1.5-flash')\n",
    "text_prompt = \"\"\"Tell me what this meme represents and how I can use it to get \n",
    "out of the pattern for\n",
    "self-improvement.\"\"\"\n",
    "\n",
    "config = genai.types.GenerationConfig(\n",
    "    response_mime_type='text/plain',\n",
    ")\n",
    "\n",
    "meme_picture = {\n",
    "    'mime_type': 'image/jpeg',\n",
    "    'data': pathlib.Path('meme.jpg').read_bytes()\n",
    "}\n",
    "\n",
    "response = image_model.generate_content(contents=[text_prompt, meme_picture])\n",
    "to_markdown(response.text)"
   ]
  },
  {
   "cell_type": "code",
   "execution_count": null,
   "metadata": {},
   "outputs": [],
   "source": []
  },
  {
   "cell_type": "markdown",
   "metadata": {},
   "source": [
    "## Counting tokens and embeddings"
   ]
  },
  {
   "cell_type": "code",
   "execution_count": 26,
   "metadata": {},
   "outputs": [
    {
     "data": {
      "text/plain": [
       "total_tokens: 8"
      ]
     },
     "execution_count": 26,
     "metadata": {},
     "output_type": "execute_result"
    }
   ],
   "source": [
    "text_model.count_tokens(\"What is the diameter of the sun?\")"
   ]
  },
  {
   "cell_type": "code",
   "execution_count": 27,
   "metadata": {},
   "outputs": [],
   "source": [
    "embedding = genai.embed_content(\n",
    "    model=\"models/embedding-001\",\n",
    "    content=\"Aadil mallick is 19 years old an a sad individual.\",\n",
    "    task_type=\"retrieval_document\",\n",
    ")"
   ]
  },
  {
   "cell_type": "code",
   "execution_count": 31,
   "metadata": {},
   "outputs": [
    {
     "data": {
      "text/plain": [
       "768"
      ]
     },
     "execution_count": 31,
     "metadata": {},
     "output_type": "execute_result"
    }
   ],
   "source": [
    "len(embedding['embedding'])"
   ]
  },
  {
   "cell_type": "code",
   "execution_count": null,
   "metadata": {},
   "outputs": [],
   "source": [
    "import numpy as np\n",
    "\n",
    "def create_embedding(text):\n",
    "    return genai.embed_content(\n",
    "        model=\"models/embedding-001\",\n",
    "        content=text,\n",
    "        task_type=\"retrieval_document\",\n",
    "    )['embedding']\n",
    "\n",
    "def get_similarity_search_score(vector1, vector2):\n",
    "    return np.dot(vector1, vector2)\n",
    "\n",
    "def similarity_search(query, documents: list[str], vectors: np.ndarray) -> str: \n",
    "    query_embedding = create_embedding(query)\n",
    "    similarity_scores = []\n",
    "    for index, embedding in enumerate(vectors):\n",
    "        similarity_score = get_similarity_search_score(query_embedding, embedding)\n",
    "        similarity_scores.append(similarity_score)\n",
    "\n",
    "    # if similarity score is near 1, high similarity\n",
    "    max_idx = np.argmax(np.array(similarity_scores))\n",
    "    return documents[max_idx]\n",
    "\n",
    "def RAG(query, documents, embeddings=None):\n",
    "    if not embeddings:\n",
    "        embeddings = [create_embedding(document) for document in documents]\n",
    "    most_likely_document = similarity_search(query, documents, embeddings)\n",
    "    prompt = f\"\"\"Given the query: {query}, \n",
    "    answer the question using this context:\n",
    "    \n",
    "    {most_likely_document}\n",
    "    \"\"\"\n",
    "    response = text_model.generate_content(prompt)\n",
    "    return response.text\n"
   ]
  }
 ],
 "metadata": {
  "kernelspec": {
   "display_name": ".venv",
   "language": "python",
   "name": "python3"
  },
  "language_info": {
   "codemirror_mode": {
    "name": "ipython",
    "version": 3
   },
   "file_extension": ".py",
   "mimetype": "text/x-python",
   "name": "python",
   "nbconvert_exporter": "python",
   "pygments_lexer": "ipython3",
   "version": "3.12.1"
  }
 },
 "nbformat": 4,
 "nbformat_minor": 2
}
